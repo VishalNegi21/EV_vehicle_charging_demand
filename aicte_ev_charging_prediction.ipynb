{
 "cells": [
  {
   "cell_type": "markdown",
   "id": "067b671b-5661-42fb-940a-b5af3e4d5889",
   "metadata": {},
   "source": [
    "# Import Libraries"
   ]
  },
  {
   "cell_type": "code",
   "execution_count": 1,
   "id": "0cfc3a49-cd97-4097-b498-d95f20056bd7",
   "metadata": {},
   "outputs": [],
   "source": [
    "import numpy as np\n",
    "import pandas as pd\n",
    "from matplotlib import pyplot as plt\n",
    "import seaborn as sns"
   ]
  },
  {
   "cell_type": "markdown",
   "id": "a3e41e1e-ec0f-4e04-9d80-7e0b91dd0f36",
   "metadata": {},
   "source": [
    "# Load Dataset"
   ]
  },
  {
   "cell_type": "code",
   "execution_count": 2,
   "id": "a1c82fd0-4660-4f78-9dbb-ec5049e28128",
   "metadata": {},
   "outputs": [],
   "source": [
    "df=pd.read_csv('Electric_Vehicle_Population_By_County.csv')"
   ]
  },
  {
   "cell_type": "markdown",
   "id": "0979a06c-4160-4e6a-a1c0-6a95b35dd519",
   "metadata": {},
   "source": [
    "# Explore and Understand Data"
   ]
  },
  {
   "cell_type": "code",
   "execution_count": 3,
   "id": "fcb94da1-f9d1-4989-a263-5feba5a5c6ad",
   "metadata": {},
   "outputs": [
    {
     "data": {
      "text/html": [
       "<div>\n",
       "<style scoped>\n",
       "    .dataframe tbody tr th:only-of-type {\n",
       "        vertical-align: middle;\n",
       "    }\n",
       "\n",
       "    .dataframe tbody tr th {\n",
       "        vertical-align: top;\n",
       "    }\n",
       "\n",
       "    .dataframe thead th {\n",
       "        text-align: right;\n",
       "    }\n",
       "</style>\n",
       "<table border=\"1\" class=\"dataframe\">\n",
       "  <thead>\n",
       "    <tr style=\"text-align: right;\">\n",
       "      <th></th>\n",
       "      <th>Date</th>\n",
       "      <th>County</th>\n",
       "      <th>State</th>\n",
       "      <th>Vehicle Primary Use</th>\n",
       "      <th>Battery Electric Vehicles (BEVs)</th>\n",
       "      <th>Plug-In Hybrid Electric Vehicles (PHEVs)</th>\n",
       "      <th>Electric Vehicle (EV) Total</th>\n",
       "      <th>Non-Electric Vehicle Total</th>\n",
       "      <th>Total Vehicles</th>\n",
       "      <th>Percent Electric Vehicles</th>\n",
       "    </tr>\n",
       "  </thead>\n",
       "  <tbody>\n",
       "    <tr>\n",
       "      <th>0</th>\n",
       "      <td>September 30 2022</td>\n",
       "      <td>Riverside</td>\n",
       "      <td>CA</td>\n",
       "      <td>Passenger</td>\n",
       "      <td>7</td>\n",
       "      <td>0</td>\n",
       "      <td>7</td>\n",
       "      <td>460</td>\n",
       "      <td>467</td>\n",
       "      <td>1.50</td>\n",
       "    </tr>\n",
       "    <tr>\n",
       "      <th>1</th>\n",
       "      <td>December 31 2022</td>\n",
       "      <td>Prince William</td>\n",
       "      <td>VA</td>\n",
       "      <td>Passenger</td>\n",
       "      <td>1</td>\n",
       "      <td>2</td>\n",
       "      <td>3</td>\n",
       "      <td>188</td>\n",
       "      <td>191</td>\n",
       "      <td>1.57</td>\n",
       "    </tr>\n",
       "    <tr>\n",
       "      <th>2</th>\n",
       "      <td>January 31 2020</td>\n",
       "      <td>Dakota</td>\n",
       "      <td>MN</td>\n",
       "      <td>Passenger</td>\n",
       "      <td>0</td>\n",
       "      <td>1</td>\n",
       "      <td>1</td>\n",
       "      <td>32</td>\n",
       "      <td>33</td>\n",
       "      <td>3.03</td>\n",
       "    </tr>\n",
       "    <tr>\n",
       "      <th>3</th>\n",
       "      <td>June 30 2022</td>\n",
       "      <td>Ferry</td>\n",
       "      <td>WA</td>\n",
       "      <td>Truck</td>\n",
       "      <td>0</td>\n",
       "      <td>0</td>\n",
       "      <td>0</td>\n",
       "      <td>3,575</td>\n",
       "      <td>3,575</td>\n",
       "      <td>0.00</td>\n",
       "    </tr>\n",
       "    <tr>\n",
       "      <th>4</th>\n",
       "      <td>July 31 2021</td>\n",
       "      <td>Douglas</td>\n",
       "      <td>CO</td>\n",
       "      <td>Passenger</td>\n",
       "      <td>0</td>\n",
       "      <td>1</td>\n",
       "      <td>1</td>\n",
       "      <td>83</td>\n",
       "      <td>84</td>\n",
       "      <td>1.19</td>\n",
       "    </tr>\n",
       "  </tbody>\n",
       "</table>\n",
       "</div>"
      ],
      "text/plain": [
       "                Date          County State Vehicle Primary Use  \\\n",
       "0  September 30 2022       Riverside    CA           Passenger   \n",
       "1   December 31 2022  Prince William    VA           Passenger   \n",
       "2    January 31 2020          Dakota    MN           Passenger   \n",
       "3       June 30 2022           Ferry    WA               Truck   \n",
       "4       July 31 2021         Douglas    CO           Passenger   \n",
       "\n",
       "  Battery Electric Vehicles (BEVs) Plug-In Hybrid Electric Vehicles (PHEVs)  \\\n",
       "0                                7                                        0   \n",
       "1                                1                                        2   \n",
       "2                                0                                        1   \n",
       "3                                0                                        0   \n",
       "4                                0                                        1   \n",
       "\n",
       "  Electric Vehicle (EV) Total Non-Electric Vehicle Total Total Vehicles  \\\n",
       "0                           7                        460            467   \n",
       "1                           3                        188            191   \n",
       "2                           1                         32             33   \n",
       "3                           0                      3,575          3,575   \n",
       "4                           1                         83             84   \n",
       "\n",
       "   Percent Electric Vehicles  \n",
       "0                       1.50  \n",
       "1                       1.57  \n",
       "2                       3.03  \n",
       "3                       0.00  \n",
       "4                       1.19  "
      ]
     },
     "execution_count": 3,
     "metadata": {},
     "output_type": "execute_result"
    }
   ],
   "source": [
    "df.head()"
   ]
  },
  {
   "cell_type": "code",
   "execution_count": 4,
   "id": "8ef8e876-76e1-43d8-953f-a10236023371",
   "metadata": {},
   "outputs": [
    {
     "data": {
      "text/plain": [
       "(20819, 10)"
      ]
     },
     "execution_count": 4,
     "metadata": {},
     "output_type": "execute_result"
    }
   ],
   "source": [
    "df.shape"
   ]
  },
  {
   "cell_type": "code",
   "execution_count": 5,
   "id": "0575e851-d51b-40ab-83bf-c163de111c58",
   "metadata": {},
   "outputs": [
    {
     "name": "stdout",
     "output_type": "stream",
     "text": [
      "<class 'pandas.core.frame.DataFrame'>\n",
      "RangeIndex: 20819 entries, 0 to 20818\n",
      "Data columns (total 10 columns):\n",
      " #   Column                                    Non-Null Count  Dtype  \n",
      "---  ------                                    --------------  -----  \n",
      " 0   Date                                      20819 non-null  object \n",
      " 1   County                                    20733 non-null  object \n",
      " 2   State                                     20733 non-null  object \n",
      " 3   Vehicle Primary Use                       20819 non-null  object \n",
      " 4   Battery Electric Vehicles (BEVs)          20819 non-null  object \n",
      " 5   Plug-In Hybrid Electric Vehicles (PHEVs)  20819 non-null  object \n",
      " 6   Electric Vehicle (EV) Total               20819 non-null  object \n",
      " 7   Non-Electric Vehicle Total                20819 non-null  object \n",
      " 8   Total Vehicles                            20819 non-null  object \n",
      " 9   Percent Electric Vehicles                 20819 non-null  float64\n",
      "dtypes: float64(1), object(9)\n",
      "memory usage: 1.6+ MB\n"
     ]
    }
   ],
   "source": [
    "df.info()"
   ]
  },
  {
   "cell_type": "code",
   "execution_count": 6,
   "id": "fdfd721d-efe1-483f-b522-9bb22b723f05",
   "metadata": {},
   "outputs": [
    {
     "data": {
      "text/plain": [
       "Date                                         0\n",
       "County                                      86\n",
       "State                                       86\n",
       "Vehicle Primary Use                          0\n",
       "Battery Electric Vehicles (BEVs)             0\n",
       "Plug-In Hybrid Electric Vehicles (PHEVs)     0\n",
       "Electric Vehicle (EV) Total                  0\n",
       "Non-Electric Vehicle Total                   0\n",
       "Total Vehicles                               0\n",
       "Percent Electric Vehicles                    0\n",
       "dtype: int64"
      ]
     },
     "execution_count": 6,
     "metadata": {},
     "output_type": "execute_result"
    }
   ],
   "source": [
    "df.isna().sum()"
   ]
  },
  {
   "cell_type": "markdown",
   "id": "284ef562-3520-4c3f-a465-a7f09398ffea",
   "metadata": {},
   "source": [
    "## Check Oultiers"
   ]
  },
  {
   "cell_type": "code",
   "execution_count": 7,
   "id": "53a8e728-b13e-4770-9da8-804226a58d34",
   "metadata": {},
   "outputs": [
    {
     "name": "stdout",
     "output_type": "stream",
     "text": [
      "lower bound -3.5174999999999996\n",
      "upper bound 6.9025\n",
      "Number of outliers 10\n"
     ]
    }
   ],
   "source": [
    "Q1 = df['Percent Electric Vehicles'].quantile(0.25)\n",
    "Q3 = df['Percent Electric Vehicles'].quantile(0.75)\n",
    "\n",
    "IQR=Q3-Q1\n",
    "\n",
    "lower_bound = Q1 - 1.5*IQR\n",
    "upper_bound = Q3 + 1.5*IQR\n",
    "\n",
    "outliers = df[(df['Percent Electric Vehicles']>upper_bound) | (df[\"Percent Electric Vehicles\"]<lower_bound)]\n",
    "print('lower bound',lower_bound)\n",
    "print('upper bound',upper_bound)\n",
    "print(\"Number of outliers\",outliers.shape[1])"
   ]
  },
  {
   "cell_type": "code",
   "execution_count": 10,
   "id": "910c465a-3e14-4f2e-8a57-f31bcb96afa0",
   "metadata": {},
   "outputs": [
    {
     "name": "stdout",
     "output_type": "stream",
     "text": [
      "Missing after fill:\n",
      "County    0\n",
      "State     0\n",
      "dtype: int64\n"
     ]
    },
    {
     "data": {
      "text/html": [
       "<div>\n",
       "<style scoped>\n",
       "    .dataframe tbody tr th:only-of-type {\n",
       "        vertical-align: middle;\n",
       "    }\n",
       "\n",
       "    .dataframe tbody tr th {\n",
       "        vertical-align: top;\n",
       "    }\n",
       "\n",
       "    .dataframe thead th {\n",
       "        text-align: right;\n",
       "    }\n",
       "</style>\n",
       "<table border=\"1\" class=\"dataframe\">\n",
       "  <thead>\n",
       "    <tr style=\"text-align: right;\">\n",
       "      <th></th>\n",
       "      <th>Date</th>\n",
       "      <th>County</th>\n",
       "      <th>State</th>\n",
       "      <th>Vehicle Primary Use</th>\n",
       "      <th>Battery Electric Vehicles (BEVs)</th>\n",
       "      <th>Plug-In Hybrid Electric Vehicles (PHEVs)</th>\n",
       "      <th>Electric Vehicle (EV) Total</th>\n",
       "      <th>Non-Electric Vehicle Total</th>\n",
       "      <th>Total Vehicles</th>\n",
       "      <th>Percent Electric Vehicles</th>\n",
       "    </tr>\n",
       "  </thead>\n",
       "  <tbody>\n",
       "    <tr>\n",
       "      <th>0</th>\n",
       "      <td>2022-09-30</td>\n",
       "      <td>Riverside</td>\n",
       "      <td>CA</td>\n",
       "      <td>Passenger</td>\n",
       "      <td>7</td>\n",
       "      <td>0</td>\n",
       "      <td>7</td>\n",
       "      <td>460</td>\n",
       "      <td>467</td>\n",
       "      <td>1.50</td>\n",
       "    </tr>\n",
       "    <tr>\n",
       "      <th>1</th>\n",
       "      <td>2022-12-31</td>\n",
       "      <td>Prince William</td>\n",
       "      <td>VA</td>\n",
       "      <td>Passenger</td>\n",
       "      <td>1</td>\n",
       "      <td>2</td>\n",
       "      <td>3</td>\n",
       "      <td>188</td>\n",
       "      <td>191</td>\n",
       "      <td>1.57</td>\n",
       "    </tr>\n",
       "    <tr>\n",
       "      <th>2</th>\n",
       "      <td>2020-01-31</td>\n",
       "      <td>Dakota</td>\n",
       "      <td>MN</td>\n",
       "      <td>Passenger</td>\n",
       "      <td>0</td>\n",
       "      <td>1</td>\n",
       "      <td>1</td>\n",
       "      <td>32</td>\n",
       "      <td>33</td>\n",
       "      <td>3.03</td>\n",
       "    </tr>\n",
       "    <tr>\n",
       "      <th>3</th>\n",
       "      <td>2022-06-30</td>\n",
       "      <td>Ferry</td>\n",
       "      <td>WA</td>\n",
       "      <td>Truck</td>\n",
       "      <td>0</td>\n",
       "      <td>0</td>\n",
       "      <td>0</td>\n",
       "      <td>3,575</td>\n",
       "      <td>3,575</td>\n",
       "      <td>0.00</td>\n",
       "    </tr>\n",
       "    <tr>\n",
       "      <th>4</th>\n",
       "      <td>2021-07-31</td>\n",
       "      <td>Douglas</td>\n",
       "      <td>CO</td>\n",
       "      <td>Passenger</td>\n",
       "      <td>0</td>\n",
       "      <td>1</td>\n",
       "      <td>1</td>\n",
       "      <td>83</td>\n",
       "      <td>84</td>\n",
       "      <td>1.19</td>\n",
       "    </tr>\n",
       "  </tbody>\n",
       "</table>\n",
       "</div>"
      ],
      "text/plain": [
       "        Date          County State Vehicle Primary Use  \\\n",
       "0 2022-09-30       Riverside    CA           Passenger   \n",
       "1 2022-12-31  Prince William    VA           Passenger   \n",
       "2 2020-01-31          Dakota    MN           Passenger   \n",
       "3 2022-06-30           Ferry    WA               Truck   \n",
       "4 2021-07-31         Douglas    CO           Passenger   \n",
       "\n",
       "  Battery Electric Vehicles (BEVs) Plug-In Hybrid Electric Vehicles (PHEVs)  \\\n",
       "0                                7                                        0   \n",
       "1                                1                                        2   \n",
       "2                                0                                        1   \n",
       "3                                0                                        0   \n",
       "4                                0                                        1   \n",
       "\n",
       "  Electric Vehicle (EV) Total Non-Electric Vehicle Total Total Vehicles  \\\n",
       "0                           7                        460            467   \n",
       "1                           3                        188            191   \n",
       "2                           1                         32             33   \n",
       "3                           0                      3,575          3,575   \n",
       "4                           1                         83             84   \n",
       "\n",
       "   Percent Electric Vehicles  \n",
       "0                       1.50  \n",
       "1                       1.57  \n",
       "2                       3.03  \n",
       "3                       0.00  \n",
       "4                       1.19  "
      ]
     },
     "execution_count": 10,
     "metadata": {},
     "output_type": "execute_result"
    }
   ],
   "source": [
    "# Converts the \"Date\" column to actual datetime objects\n",
    "df['Date'] = pd.to_datetime(df['Date'], errors='coerce')\n",
    "\n",
    "# Removes rows where \"Date\" conversion failed\n",
    "df = df[df['Date'].notnull()]\n",
    "\n",
    "# Removes rows where the target (EV Total) is missing\n",
    "df = df[df['Electric Vehicle (EV) Total'].notnull()]\n",
    "\n",
    "# Fill missing values\n",
    "df['County'] = df['County'].fillna('Unknown')\n",
    "df['State'] = df['State'].fillna('Unknown')\n",
    "\n",
    "# Confirm remaining nulls\n",
    "print(\"Missing after fill:\")\n",
    "print(df[['County', 'State']].isnull().sum())\n",
    "\n",
    "df.head()"
   ]
  },
  {
   "cell_type": "code",
   "execution_count": 11,
   "id": "ff655ef1-fb7b-48cc-9c5c-82cccfd79f48",
   "metadata": {},
   "outputs": [
    {
     "name": "stdout",
     "output_type": "stream",
     "text": [
      "Number of outliers in 'Percent Electric Vehicles': 0\n"
     ]
    }
   ],
   "source": [
    "df['Percent Electric Vehicles'] = np.where(df['Percent Electric Vehicles'] > upper_bound, upper_bound,\n",
    "                                 np.where(df['Percent Electric Vehicles'] < lower_bound, lower_bound, df['Percent Electric Vehicles']))\n",
    "\n",
    "# Identify outliers\n",
    "outliers = df[(df['Percent Electric Vehicles'] < lower_bound) | (df['Percent Electric Vehicles'] > upper_bound)]\n",
    "print(\"Number of outliers in 'Percent Electric Vehicles':\", outliers.shape[0])"
   ]
  },
  {
   "cell_type": "code",
   "execution_count": null,
   "id": "45064b37-296b-4b19-8e87-0c7f3125825e",
   "metadata": {},
   "outputs": [],
   "source": []
  }
 ],
 "metadata": {
  "kernelspec": {
   "display_name": "Python 3 (ipykernel)",
   "language": "python",
   "name": "python3"
  },
  "language_info": {
   "codemirror_mode": {
    "name": "ipython",
    "version": 3
   },
   "file_extension": ".py",
   "mimetype": "text/x-python",
   "name": "python",
   "nbconvert_exporter": "python",
   "pygments_lexer": "ipython3",
   "version": "3.12.3"
  }
 },
 "nbformat": 4,
 "nbformat_minor": 5
}
